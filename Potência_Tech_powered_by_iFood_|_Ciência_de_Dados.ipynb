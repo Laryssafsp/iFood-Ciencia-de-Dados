{
  "nbformat": 4,
  "nbformat_minor": 0,
  "metadata": {
    "colab": {
      "provenance": [],
      "authorship_tag": "ABX9TyPtb8sh8ygCpqxMAyNSMQZ1",
      "include_colab_link": true
    },
    "kernelspec": {
      "name": "python3",
      "display_name": "Python 3"
    },
    "language_info": {
      "name": "python"
    }
  },
  "cells": [
    {
      "cell_type": "markdown",
      "metadata": {
        "id": "view-in-github",
        "colab_type": "text"
      },
      "source": [
        "<a href=\"https://colab.research.google.com/github/Laryssafsp/iFood-Ciencia-de-Dados/blob/main/Pot%C3%AAncia_Tech_powered_by_iFood_%7C_Ci%C3%AAncia_de_Dados.ipynb\" target=\"_parent\"><img src=\"https://colab.research.google.com/assets/colab-badge.svg\" alt=\"Open In Colab\"/></a>"
      ]
    },
    {
      "cell_type": "markdown",
      "source": [
        "01.Imagine que você está criando um aplicativo de entrega de comida e precisa informar ao usuário o tempo estimado de entrega de um restaurante. A mensagem deve conter o nome do restaurante e o tempo estimado de entrega em minutos.\n",
        "\n"
      ],
      "metadata": {
        "id": "SEVgj02ugfVU"
      }
    },
    {
      "cell_type": "code",
      "execution_count": null,
      "metadata": {
        "id": "wrre7f9ogMH3"
      },
      "outputs": [],
      "source": [
        "nomeRestaurante = input()\n",
        "tempoEstimadoEntrega = int(input())\n",
        "\n",
        "#TODO: Imprimir a saída no padrão definido no enunciado deste desafio.\n",
        "#Dica: Para simplificar a formatação, utilize o conceito de interpolação de strings.\n",
        "\n",
        "\n",
        "saída = f\"O restaurante {nomeRestaurante} entrega em {tempoEstimadoEntrega} minutos.\"\n",
        "print(saída)"
      ]
    },
    {
      "cell_type": "markdown",
      "source": [
        "2. Você está criando um aplicativo de entrega de comida e precisa calcular o preço final do pedido do usuário. O usuário escolheu alguns itens do cardápio e é preciso calcular o preço total do pedido.\n"
      ],
      "metadata": {
        "id": "HpwlotheguEB"
      }
    },
    {
      "cell_type": "code",
      "source": [
        "valorHamburguer = float(input())\n",
        "quantidadeHamburguer = int(input())\n",
        "valorBebida = float(input())\n",
        "quantidadeBebida = int(input())\n",
        "valorPago = float(input())\n",
        "\n",
        "#TODO: Calcular o preço final do pedido (total dos hambúrgueres + total das bebidas).\n",
        "\n",
        "#TODO: Calcular o troco do pedido, considerando o preço final e o valor pago pelo usuário.\n",
        "\n",
        "#TODO: Imprimir a saída no formato especificado neste desafio.\n",
        "\n",
        "valorTotalHamburguer = valorHamburguer * quantidadeHamburguer\n",
        "valorTotalBebida = valorBebida * quantidadeBebida\n",
        "total = float(valorTotalHamburguer + valorTotalBebida)\n",
        "troco = float(valorPago - total)\n",
        "\n",
        "\n",
        "print(f\"O preço final do pedido é R$ {total:.2f}. Seu troco é R$ {troco:.2f}.\")"
      ],
      "metadata": {
        "id": "w08H8Ybagv72"
      },
      "execution_count": null,
      "outputs": []
    },
    {
      "cell_type": "markdown",
      "source": [
        "3. Crie um programa que informe ao usuário se ele pode receber um brinde especial de acordo com o valor total do pedido. Se o valor total do pedido for maior ou igual a R$ 50.00, o usuário receberá uma sobremesa grátis. Caso contrário, o usuário não receberá nenhum brinde.\n",
        "\n"
      ],
      "metadata": {
        "id": "fuZWPiZFjDAN"
      }
    },
    {
      "cell_type": "code",
      "source": [
        "valorPedido = int(input())\n",
        "\n",
        "#TODO: Criar as condições necessárias para impressão da saída conforme o enunciado.\n",
        "if valorPedido >= 50:\n",
        "  print('Parabens, você ganhou uma sobremesa gratis!')\n",
        "else:\n",
        "  print('Que pena, você nao ganhou nenhum brinde especial.')"
      ],
      "metadata": {
        "id": "o_qpbkxpkKLf"
      },
      "execution_count": null,
      "outputs": []
    },
    {
      "cell_type": "markdown",
      "source": [
        "4. Você foi contratado para desenvolver um sistema que armazena informações dos pedidos de comida online realizados por um cliente. O sistema deve permitir ao cliente inserir novos pedidos, escolher um cupom de desconto (10% ou 20%) e exibir o valor total de todos os pedidos realizados até o momento, com o desconto aplicado."
      ],
      "metadata": {
        "id": "il7ywNlgk475"
      }
    },
    {
      "cell_type": "code",
      "source": [
        "def main():\n",
        "  n = int(input())\n",
        "  total = 0\n",
        "\n",
        "  for i in range(1, n + 1):\n",
        "      pedido = input().split(\" \")\n",
        "      nome = pedido[0]\n",
        "      valor = float(pedido[1])\n",
        "      total += valor\n",
        "\n",
        "  cupom_desconto = input()\n",
        "\n",
        "  desconto = 0.0\n",
        "  if cupom_desconto == \"10%\":\n",
        "      desconto = 0.1\n",
        "  elif cupom_desconto == \"20%\":\n",
        "      desconto = 0.2\n",
        "  valor_com_desconto = total - (total * desconto)\n",
        "  print(f\"Valor total: {valor_com_desconto:.2f}\")\n",
        "\n",
        "if __name__ == \"__main__\":\n",
        "  main()"
      ],
      "metadata": {
        "id": "vZ6nEsudB-Zs"
      },
      "execution_count": null,
      "outputs": []
    },
    {
      "cell_type": "markdown",
      "source": [
        "5. O objetivo deste programa é ajudar a equipe do Restaurante Veggieworld a identificar rapidamente os pedidos veganos e não veganos e informar as calorias de cada prato definido pelo cliente. O programa deve solicitar ao usuário o número de pedidos que serão feitos e, em seguida, pedir informações sobre cada pedido, incluindo se o prato é vegano ou não (usando as opções \"s\" para sim e \"n\" para não) e a quantidade de calorias. Ao final, o programa deve exibir uma lista de todos os pedidos com suas informações correspondentes."
      ],
      "metadata": {
        "id": "aP2sp1-YC4c9"
      }
    },
    {
      "cell_type": "code",
      "source": [
        "#TODO: Tendo em vista a variável booleana \"ehVegano\", imprima a saída deste desafio.\n",
        "\n",
        "numPedidos = int(input())\n",
        "\n",
        "for i in range(1, numPedidos + 1):\n",
        "  prato = input()\n",
        "  calorias = int(input())\n",
        "  ehVegano = input()\n",
        "\n",
        "  if ehVegano == \"s\":\n",
        "      ehVeganoTexto = \"Vegano\"\n",
        "  else:\n",
        "      ehVeganoTexto = \"Nao-vegano\"\n",
        "\n",
        "  print(f\"Pedido {i}: {prato} ({ehVeganoTexto}) - {calorias} calorias\")\n",
        "\n"
      ],
      "metadata": {
        "id": "zCtSxXsYC40V"
      },
      "execution_count": null,
      "outputs": []
    }
  ]
}